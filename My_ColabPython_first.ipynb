{
  "nbformat": 4,
  "nbformat_minor": 0,
  "metadata": {
    "colab": {
      "provenance": [],
      "authorship_tag": "ABX9TyOp6dEgPcu+OG01JpI7/Gpx",
      "include_colab_link": true
    },
    "kernelspec": {
      "name": "python3",
      "display_name": "Python 3"
    },
    "language_info": {
      "name": "python"
    }
  },
  "cells": [
    {
      "cell_type": "markdown",
      "metadata": {
        "id": "view-in-github",
        "colab_type": "text"
      },
      "source": [
        "<a href=\"https://colab.research.google.com/github/Aakash-Mygithub/Python-codes/blob/main/My_ColabPython_first.ipynb\" target=\"_parent\"><img src=\"https://colab.research.google.com/assets/colab-badge.svg\" alt=\"Open In Colab\"/></a>"
      ]
    },
    {
      "cell_type": "code",
      "execution_count": null,
      "metadata": {
        "colab": {
          "base_uri": "https://localhost:8080/"
        },
        "id": "sFl7lIdVBCDn",
        "outputId": "92316836-23da-40ca-bbdc-0057d3154de6"
      },
      "outputs": [
        {
          "output_type": "stream",
          "name": "stdout",
          "text": [
            "Hello World\n"
          ]
        }
      ],
      "source": [
        "print('Hello World')"
      ]
    },
    {
      "cell_type": "code",
      "source": [
        "print(\"Hare Krishna\")"
      ],
      "metadata": {
        "id": "OZI9rtOENKK_",
        "colab": {
          "base_uri": "https://localhost:8080/"
        },
        "outputId": "2df2d03d-af24-4577-9f69-98eca2b4488d"
      },
      "execution_count": null,
      "outputs": [
        {
          "output_type": "stream",
          "name": "stdout",
          "text": [
            "Hare Krishna\n"
          ]
        }
      ]
    },
    {
      "cell_type": "code",
      "source": [
        "print(\"Hare Rama\",\"Hare Krishna\")"
      ],
      "metadata": {
        "colab": {
          "base_uri": "https://localhost:8080/"
        },
        "id": "CSgeE1regFx8",
        "outputId": "3c8e5f63-6ecd-4177-ec5f-275960f5c501"
      },
      "execution_count": null,
      "outputs": [
        {
          "output_type": "stream",
          "name": "stdout",
          "text": [
            "Hare Rama Hare Krishna\n"
          ]
        }
      ]
    },
    {
      "cell_type": "code",
      "source": [
        "print(23+45+44.44*77%200)"
      ],
      "metadata": {
        "colab": {
          "base_uri": "https://localhost:8080/"
        },
        "id": "7GwLa3pag6Ng",
        "outputId": "8596a8fd-e2db-4442-f7ce-7d3d7ad0227c"
      },
      "execution_count": null,
      "outputs": [
        {
          "output_type": "stream",
          "name": "stdout",
          "text": [
            "89.87999999999965\n"
          ]
        }
      ]
    },
    {
      "cell_type": "code",
      "source": [
        "name = 'Kanha123'\n",
        "age = 25\n",
        "price = 23.44"
      ],
      "metadata": {
        "id": "tRQNesObhPh2"
      },
      "execution_count": 5,
      "outputs": []
    },
    {
      "cell_type": "code",
      "source": [
        "print (\"my name is : \", name)\n",
        "print (\"my age is : \", age)\n",
        "print (\"my price is : \", price)"
      ],
      "metadata": {
        "colab": {
          "base_uri": "https://localhost:8080/"
        },
        "id": "IdWJtoZm9o09",
        "outputId": "9b5a6833-f9f5-4664-ecda-e5f13cb79932"
      },
      "execution_count": 6,
      "outputs": [
        {
          "output_type": "stream",
          "name": "stdout",
          "text": [
            "my name is :  Kanha123\n",
            "my age is :  25\n",
            "my price is :  23.44\n"
          ]
        }
      ]
    },
    {
      "cell_type": "code",
      "source": [
        "print (type(name))\n",
        "print (type(age))\n",
        "print (type(price))"
      ],
      "metadata": {
        "colab": {
          "base_uri": "https://localhost:8080/"
        },
        "id": "o57O27yx_j31",
        "outputId": "5ccd6fdb-2b4f-4e1e-80c3-b20b2907f74e"
      },
      "execution_count": 7,
      "outputs": [
        {
          "output_type": "stream",
          "name": "stdout",
          "text": [
            "<class 'str'>\n",
            "<class 'int'>\n",
            "<class 'float'>\n"
          ]
        }
      ]
    },
    {
      "cell_type": "code",
      "source": [
        "name1 = 'Nanda'\n",
        "print(name1,name)"
      ],
      "metadata": {
        "colab": {
          "base_uri": "https://localhost:8080/"
        },
        "id": "9hdkSFCwrTL2",
        "outputId": "46de4698-d8d7-4795-8a4b-9c6836fc681a"
      },
      "execution_count": null,
      "outputs": [
        {
          "output_type": "stream",
          "name": "stdout",
          "text": [
            "Nanda Kanha123\n"
          ]
        }
      ]
    },
    {
      "cell_type": "code",
      "source": [
        "#print('python')"
      ],
      "metadata": {
        "id": "HkQItdB4trrf"
      },
      "execution_count": null,
      "outputs": []
    },
    {
      "cell_type": "code",
      "source": [
        "print ('History', 'Code', 22)\n"
      ],
      "metadata": {
        "id": "W6xs8p6cyQNT",
        "colab": {
          "base_uri": "https://localhost:8080/"
        },
        "outputId": "6903c920-7721-4b92-900c-42d1591134f6"
      },
      "execution_count": 3,
      "outputs": [
        {
          "output_type": "stream",
          "name": "stdout",
          "text": [
            "History Code 22\n"
          ]
        }
      ]
    },
    {
      "cell_type": "code",
      "source": [
        "A = 'English'\n",
        "B = 'Hindi'\n",
        "C = 'Marathi'\n",
        "D = 'Gujarati'\n",
        "E = 'Tamil'\n",
        "F = 'Telugu'\n",
        "G = 'Kannada'\n",
        "H = 'Malayalam'\n",
        "I = 'Bengali'\n",
        "J = 'Punjabi'"
      ],
      "metadata": {
        "id": "LvcuVOzI5FWP"
      },
      "execution_count": 2,
      "outputs": []
    },
    {
      "cell_type": "code",
      "source": [
        "print (A,B,C,D,E,F,\"and\",G)"
      ],
      "metadata": {
        "colab": {
          "base_uri": "https://localhost:8080/"
        },
        "id": "NKORk9xp6d0l",
        "outputId": "10cbe188-5805-4a04-9f5b-a7973687142b"
      },
      "execution_count": 3,
      "outputs": [
        {
          "output_type": "stream",
          "name": "stdout",
          "text": [
            "English Hindi Marathi Gujarati Tamil Telugu and Kannada\n"
          ]
        }
      ]
    },
    {
      "cell_type": "code",
      "source": [
        "a = A,B,C,D,E,F,G\n",
        "b = a\n",
        "\n",
        "print (A,F,D,J)\n",
        "print (B,A,D,C)\n"
      ],
      "metadata": {
        "colab": {
          "base_uri": "https://localhost:8080/"
        },
        "id": "qXubpkIm9BgW",
        "outputId": "cdfd0eec-b6b0-46f2-bd93-092193376082"
      },
      "execution_count": 5,
      "outputs": [
        {
          "output_type": "stream",
          "name": "stdout",
          "text": [
            "English Telugu Gujarati Punjabi\n",
            "Hindi English Gujarati Marathi\n"
          ]
        }
      ]
    },
    {
      "cell_type": "code",
      "source": [
        "a = 'America'\n",
        "b = 'Brazile'\n",
        "c = 'China'\n",
        "d = 'Denmark'\n",
        "e = 'England'\n",
        "f = 'Finland'\n",
        "g = 'Greenland'\n",
        "h = 'Haland'\n",
        "i = 'India'\n",
        "j = 'Jmaica'"
      ],
      "metadata": {
        "id": "cs9JuafqBCpM"
      },
      "execution_count": 11,
      "outputs": []
    },
    {
      "cell_type": "code",
      "source": [
        "print (a,b,c,d,e,f,g,h,i,j,)"
      ],
      "metadata": {
        "colab": {
          "base_uri": "https://localhost:8080/"
        },
        "id": "pnNOL4MKEmlI",
        "outputId": "7b8584ee-1b04-4ea8-e2e7-f1d6f69b5b99"
      },
      "execution_count": 12,
      "outputs": [
        {
          "output_type": "stream",
          "name": "stdout",
          "text": [
            "America Brazile China Denmark England Finland Greenland Haland India Jmaica\n"
          ]
        }
      ]
    },
    {
      "cell_type": "code",
      "source": [],
      "metadata": {
        "id": "MF6_1YGUEsCP"
      },
      "execution_count": null,
      "outputs": []
    }
  ]
}